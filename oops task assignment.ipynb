{
 "cells": [
  {
   "cell_type": "code",
   "execution_count": 3,
   "id": "2c16ca9b-ace9-436a-9e7d-e8b38a875ab1",
   "metadata": {},
   "outputs": [],
   "source": [
    "#.1>\n",
    "class vehicle:\n",
    "    def __init__(self,name_of_vehicle,max_speed,avreage_of_vehicle):\n",
    "        self.name_of_vehicle=name_of_vehicle\n",
    "        self.max_speed=max_speed\n",
    "        self.avreage_speed=avreage_of_vehicle"
   ]
  },
  {
   "cell_type": "code",
   "execution_count": 7,
   "id": "1ec6ae93-b33c-48f2-85cf-eb90f4752be7",
   "metadata": {},
   "outputs": [],
   "source": [
    "#2.>\n",
    "class child_car(vehicle):\n",
    "    def seating_capacity(self,capacity):\n",
    "        self.seating_capacity=capacity\n",
    "    def about_car(self):\n",
    "        return self.name_of_vehicle,self.seating_capacity\n",
    "        "
   ]
  },
  {
   "cell_type": "code",
   "execution_count": 8,
   "id": "8c182f49-4772-46aa-a263-ca95d23bb5c6",
   "metadata": {},
   "outputs": [],
   "source": [
    "a=child_car('hundai',400,20)"
   ]
  },
  {
   "cell_type": "code",
   "execution_count": 9,
   "id": "2c55553c-52dd-4d9f-8b40-25ab56b118a9",
   "metadata": {},
   "outputs": [],
   "source": [
    "a.seating_capacity(6)"
   ]
  },
  {
   "cell_type": "code",
   "execution_count": 11,
   "id": "f0e4b8e9-c9da-4c04-9deb-b56dbd29e1ed",
   "metadata": {},
   "outputs": [
    {
     "data": {
      "text/plain": [
       "('hundai', 6)"
      ]
     },
     "execution_count": 11,
     "metadata": {},
     "output_type": "execute_result"
    }
   ],
   "source": [
    "a.about_car()"
   ]
  },
  {
   "cell_type": "code",
   "execution_count": 22,
   "id": "229bb2f6-001f-49cd-88b1-469769edfb16",
   "metadata": {},
   "outputs": [],
   "source": [
    "#3.> If we can access 2 or more than 2 class from a single class then itis called multiple class\n",
    "class father:\n",
    "    def papa(self):\n",
    "        return('from father')"
   ]
  },
  {
   "cell_type": "code",
   "execution_count": 23,
   "id": "71a616a9-3cae-4f98-818e-71e20df1b9dc",
   "metadata": {},
   "outputs": [],
   "source": [
    "class mother:\n",
    "    def mama(self):\n",
    "        return('from mother')"
   ]
  },
  {
   "cell_type": "code",
   "execution_count": 24,
   "id": "bd38ea8e-86af-4814-a585-c137393e902f",
   "metadata": {},
   "outputs": [],
   "source": [
    "class child(father,mother):\n",
    "    def beta():\n",
    "        return('to son')"
   ]
  },
  {
   "cell_type": "code",
   "execution_count": 25,
   "id": "31fb480b-fdbf-4100-9c6d-141e0a4464c2",
   "metadata": {},
   "outputs": [],
   "source": [
    "c=child()"
   ]
  },
  {
   "cell_type": "code",
   "execution_count": 27,
   "id": "ae593915-8cc5-4631-a1aa-e71fb78deda9",
   "metadata": {},
   "outputs": [
    {
     "data": {
      "text/plain": [
       "'from father'"
      ]
     },
     "execution_count": 27,
     "metadata": {},
     "output_type": "execute_result"
    }
   ],
   "source": [
    "c.papa()"
   ]
  },
  {
   "cell_type": "code",
   "execution_count": 5,
   "id": "f6a9a3d8-eebb-4789-a2ec-7dc26f315ad5",
   "metadata": {},
   "outputs": [],
   "source": [
    "#4.> Getter is used to acess a attribute in a class and setter is used to manuplate value of a attribute class\n",
    "class atm:\n",
    "    def __init__(self , name,balance):\n",
    "        self.name=name\n",
    "        self.__balance=balance\n",
    "    @property\n",
    "    def balance_acess(self):\n",
    "        return self.__balance\n",
    "    \n",
    "    @balance_acess.setter\n",
    "    def balance_set(self,price):\n",
    "        self.__balance=price\n",
    "    @balance_acess.getter\n",
    "    def balance_get(self):\n",
    "        return self.__balance"
   ]
  },
  {
   "cell_type": "code",
   "execution_count": 6,
   "id": "943614fe-1e3d-4f41-b3ea-46f3b30ac6fa",
   "metadata": {},
   "outputs": [],
   "source": [
    "a=atm('asutosh pradhan',10000)"
   ]
  },
  {
   "cell_type": "code",
   "execution_count": 7,
   "id": "eeb51163-5a76-4d9f-a674-a6e1925724f4",
   "metadata": {},
   "outputs": [],
   "source": [
    "a.balance_set=20000"
   ]
  },
  {
   "cell_type": "code",
   "execution_count": 8,
   "id": "5d7e402c-0e8d-4b43-8d07-ad1c3b8f1566",
   "metadata": {},
   "outputs": [
    {
     "data": {
      "text/plain": [
       "20000"
      ]
     },
     "execution_count": 8,
     "metadata": {},
     "output_type": "execute_result"
    }
   ],
   "source": [
    "a.balance_acess"
   ]
  },
  {
   "cell_type": "code",
   "execution_count": 9,
   "id": "99108a67-e557-40ad-99c8-e05e5ea53464",
   "metadata": {},
   "outputs": [
    {
     "data": {
      "text/plain": [
       "20000"
      ]
     },
     "execution_count": 9,
     "metadata": {},
     "output_type": "execute_result"
    }
   ],
   "source": [
    "a.balance_get"
   ]
  },
  {
   "cell_type": "code",
   "execution_count": 20,
   "id": "f0b15391-d47b-42b1-9eb2-ad5cda557d8c",
   "metadata": {},
   "outputs": [],
   "source": [
    "#5.>Overidding is nothing but polymorphism\n",
    "class a:\n",
    "    def test_a(self):\n",
    "        print('this is class a')\n",
    "class b(a):\n",
    "    def test_b(self):\n",
    "        print('this is class b')\n"
   ]
  },
  {
   "cell_type": "code",
   "execution_count": 21,
   "id": "7ba689ab-b9b3-4c87-85bf-0968ebe3011d",
   "metadata": {},
   "outputs": [],
   "source": [
    "ap=b()"
   ]
  },
  {
   "cell_type": "code",
   "execution_count": 22,
   "id": "e8c91b67-3068-449a-8d8d-a54efeb68d08",
   "metadata": {},
   "outputs": [
    {
     "name": "stdout",
     "output_type": "stream",
     "text": [
      "this is class a\n"
     ]
    }
   ],
   "source": [
    "ap.test_a()"
   ]
  },
  {
   "cell_type": "code",
   "execution_count": 24,
   "id": "d593d7c4-f570-4eab-a225-6d1d80969801",
   "metadata": {},
   "outputs": [
    {
     "name": "stdout",
     "output_type": "stream",
     "text": [
      "this is class b\n"
     ]
    }
   ],
   "source": [
    "ap.test_b()"
   ]
  },
  {
   "cell_type": "code",
   "execution_count": null,
   "id": "e7ac1386-a014-4044-9a61-38558a3c7c86",
   "metadata": {},
   "outputs": [],
   "source": []
  }
 ],
 "metadata": {
  "kernelspec": {
   "display_name": "Python 3 (ipykernel)",
   "language": "python",
   "name": "python3"
  },
  "language_info": {
   "codemirror_mode": {
    "name": "ipython",
    "version": 3
   },
   "file_extension": ".py",
   "mimetype": "text/x-python",
   "name": "python",
   "nbconvert_exporter": "python",
   "pygments_lexer": "ipython3",
   "version": "3.10.8"
  }
 },
 "nbformat": 4,
 "nbformat_minor": 5
}
